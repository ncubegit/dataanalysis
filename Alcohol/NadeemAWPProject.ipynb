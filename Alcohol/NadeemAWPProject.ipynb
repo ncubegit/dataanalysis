{
 "cells": [
  {
   "cell_type": "code",
   "execution_count": 1,
   "id": "71860ce1",
   "metadata": {},
   "outputs": [
    {
     "name": "stdout",
     "output_type": "stream",
     "text": [
      "Requirement already satisfied: seaborn in c:\\users\\nanaser\\anaconda3\\lib\\site-packages (0.11.2)\n",
      "Requirement already satisfied: pandas>=0.23 in c:\\users\\nanaser\\anaconda3\\lib\\site-packages (from seaborn) (1.4.2)\n",
      "Requirement already satisfied: scipy>=1.0 in c:\\users\\nanaser\\anaconda3\\lib\\site-packages (from seaborn) (1.7.3)\n",
      "Requirement already satisfied: numpy>=1.15 in c:\\users\\nanaser\\anaconda3\\lib\\site-packages (from seaborn) (1.21.5)\n",
      "Requirement already satisfied: matplotlib>=2.2 in c:\\users\\nanaser\\anaconda3\\lib\\site-packages (from seaborn) (3.5.1)\n",
      "Requirement already satisfied: fonttools>=4.22.0 in c:\\users\\nanaser\\anaconda3\\lib\\site-packages (from matplotlib>=2.2->seaborn) (4.25.0)\n",
      "Requirement already satisfied: packaging>=20.0 in c:\\users\\nanaser\\anaconda3\\lib\\site-packages (from matplotlib>=2.2->seaborn) (21.3)\n",
      "Requirement already satisfied: kiwisolver>=1.0.1 in c:\\users\\nanaser\\anaconda3\\lib\\site-packages (from matplotlib>=2.2->seaborn) (1.3.2)\n",
      "Requirement already satisfied: pillow>=6.2.0 in c:\\users\\nanaser\\anaconda3\\lib\\site-packages (from matplotlib>=2.2->seaborn) (9.0.1)\n",
      "Requirement already satisfied: python-dateutil>=2.7 in c:\\users\\nanaser\\anaconda3\\lib\\site-packages (from matplotlib>=2.2->seaborn) (2.8.2)\n",
      "Requirement already satisfied: cycler>=0.10 in c:\\users\\nanaser\\anaconda3\\lib\\site-packages (from matplotlib>=2.2->seaborn) (0.11.0)\n",
      "Requirement already satisfied: pyparsing>=2.2.1 in c:\\users\\nanaser\\anaconda3\\lib\\site-packages (from matplotlib>=2.2->seaborn) (3.0.4)\n",
      "Requirement already satisfied: pytz>=2020.1 in c:\\users\\nanaser\\anaconda3\\lib\\site-packages (from pandas>=0.23->seaborn) (2021.3)\n",
      "Requirement already satisfied: six>=1.5 in c:\\users\\nanaser\\anaconda3\\lib\\site-packages (from python-dateutil>=2.7->matplotlib>=2.2->seaborn) (1.16.0)\n",
      "Requirement already satisfied: matplotlib in c:\\users\\nanaser\\anaconda3\\lib\\site-packages (3.5.1)\n",
      "Requirement already satisfied: kiwisolver>=1.0.1 in c:\\users\\nanaser\\anaconda3\\lib\\site-packages (from matplotlib) (1.3.2)\n",
      "Requirement already satisfied: pillow>=6.2.0 in c:\\users\\nanaser\\anaconda3\\lib\\site-packages (from matplotlib) (9.0.1)\n",
      "Requirement already satisfied: pyparsing>=2.2.1 in c:\\users\\nanaser\\anaconda3\\lib\\site-packages (from matplotlib) (3.0.4)\n",
      "Requirement already satisfied: python-dateutil>=2.7 in c:\\users\\nanaser\\anaconda3\\lib\\site-packages (from matplotlib) (2.8.2)\n",
      "Requirement already satisfied: packaging>=20.0 in c:\\users\\nanaser\\anaconda3\\lib\\site-packages (from matplotlib) (21.3)\n",
      "Requirement already satisfied: cycler>=0.10 in c:\\users\\nanaser\\anaconda3\\lib\\site-packages (from matplotlib) (0.11.0)\n",
      "Requirement already satisfied: fonttools>=4.22.0 in c:\\users\\nanaser\\anaconda3\\lib\\site-packages (from matplotlib) (4.25.0)\n",
      "Requirement already satisfied: numpy>=1.17 in c:\\users\\nanaser\\anaconda3\\lib\\site-packages (from matplotlib) (1.21.5)\n",
      "Requirement already satisfied: six>=1.5 in c:\\users\\nanaser\\anaconda3\\lib\\site-packages (from python-dateutil>=2.7->matplotlib) (1.16.0)\n"
     ]
    }
   ],
   "source": [
    "!pip install seaborn\n",
    "!pip install matplotlib"
   ]
  },
  {
   "cell_type": "code",
   "execution_count": 38,
   "id": "c2033f6d",
   "metadata": {},
   "outputs": [],
   "source": [
    "import numpy as np\n",
    "import pandas as pd\n",
    "%matplotlib inline\n",
    "import matplotlib.pyplot as plt\n",
    "import seaborn as sns\n",
    "import math\n",
    "#plt.style.use('seaborn-whitegrid')"
   ]
  },
  {
   "cell_type": "markdown",
   "id": "9897088e",
   "metadata": {},
   "source": [
    "# Alcohol affect on Students"
   ]
  },
  {
   "cell_type": "code",
   "execution_count": 3,
   "id": "760c3f9a",
   "metadata": {},
   "outputs": [],
   "source": [
    "m=pd.read_csv(\"Maths.csv\")"
   ]
  },
  {
   "cell_type": "code",
   "execution_count": 6,
   "id": "70e27fb8",
   "metadata": {},
   "outputs": [
    {
     "data": {
      "text/html": [
       "<div>\n",
       "<style scoped>\n",
       "    .dataframe tbody tr th:only-of-type {\n",
       "        vertical-align: middle;\n",
       "    }\n",
       "\n",
       "    .dataframe tbody tr th {\n",
       "        vertical-align: top;\n",
       "    }\n",
       "\n",
       "    .dataframe thead th {\n",
       "        text-align: right;\n",
       "    }\n",
       "</style>\n",
       "<table border=\"1\" class=\"dataframe\">\n",
       "  <thead>\n",
       "    <tr style=\"text-align: right;\">\n",
       "      <th></th>\n",
       "      <th>school</th>\n",
       "      <th>sex</th>\n",
       "      <th>age</th>\n",
       "      <th>address</th>\n",
       "      <th>famsize</th>\n",
       "      <th>Pstatus</th>\n",
       "      <th>Medu</th>\n",
       "      <th>Fedu</th>\n",
       "      <th>Mjob</th>\n",
       "      <th>Fjob</th>\n",
       "      <th>...</th>\n",
       "      <th>famrel</th>\n",
       "      <th>freetime</th>\n",
       "      <th>goout</th>\n",
       "      <th>Dalc</th>\n",
       "      <th>Walc</th>\n",
       "      <th>health</th>\n",
       "      <th>absences</th>\n",
       "      <th>G1</th>\n",
       "      <th>G2</th>\n",
       "      <th>G3</th>\n",
       "    </tr>\n",
       "  </thead>\n",
       "  <tbody>\n",
       "    <tr>\n",
       "      <th>0</th>\n",
       "      <td>GP</td>\n",
       "      <td>F</td>\n",
       "      <td>18</td>\n",
       "      <td>U</td>\n",
       "      <td>GT3</td>\n",
       "      <td>A</td>\n",
       "      <td>4</td>\n",
       "      <td>4</td>\n",
       "      <td>at_home</td>\n",
       "      <td>teacher</td>\n",
       "      <td>...</td>\n",
       "      <td>4</td>\n",
       "      <td>3</td>\n",
       "      <td>4</td>\n",
       "      <td>1</td>\n",
       "      <td>1</td>\n",
       "      <td>3</td>\n",
       "      <td>6</td>\n",
       "      <td>5</td>\n",
       "      <td>6</td>\n",
       "      <td>6</td>\n",
       "    </tr>\n",
       "    <tr>\n",
       "      <th>1</th>\n",
       "      <td>GP</td>\n",
       "      <td>F</td>\n",
       "      <td>17</td>\n",
       "      <td>U</td>\n",
       "      <td>GT3</td>\n",
       "      <td>T</td>\n",
       "      <td>1</td>\n",
       "      <td>1</td>\n",
       "      <td>at_home</td>\n",
       "      <td>other</td>\n",
       "      <td>...</td>\n",
       "      <td>5</td>\n",
       "      <td>3</td>\n",
       "      <td>3</td>\n",
       "      <td>1</td>\n",
       "      <td>1</td>\n",
       "      <td>3</td>\n",
       "      <td>4</td>\n",
       "      <td>5</td>\n",
       "      <td>5</td>\n",
       "      <td>6</td>\n",
       "    </tr>\n",
       "    <tr>\n",
       "      <th>2</th>\n",
       "      <td>GP</td>\n",
       "      <td>F</td>\n",
       "      <td>15</td>\n",
       "      <td>U</td>\n",
       "      <td>LE3</td>\n",
       "      <td>T</td>\n",
       "      <td>1</td>\n",
       "      <td>1</td>\n",
       "      <td>at_home</td>\n",
       "      <td>other</td>\n",
       "      <td>...</td>\n",
       "      <td>4</td>\n",
       "      <td>3</td>\n",
       "      <td>2</td>\n",
       "      <td>2</td>\n",
       "      <td>3</td>\n",
       "      <td>3</td>\n",
       "      <td>10</td>\n",
       "      <td>7</td>\n",
       "      <td>8</td>\n",
       "      <td>10</td>\n",
       "    </tr>\n",
       "    <tr>\n",
       "      <th>3</th>\n",
       "      <td>GP</td>\n",
       "      <td>F</td>\n",
       "      <td>15</td>\n",
       "      <td>U</td>\n",
       "      <td>GT3</td>\n",
       "      <td>T</td>\n",
       "      <td>4</td>\n",
       "      <td>2</td>\n",
       "      <td>health</td>\n",
       "      <td>services</td>\n",
       "      <td>...</td>\n",
       "      <td>3</td>\n",
       "      <td>2</td>\n",
       "      <td>2</td>\n",
       "      <td>1</td>\n",
       "      <td>1</td>\n",
       "      <td>5</td>\n",
       "      <td>2</td>\n",
       "      <td>15</td>\n",
       "      <td>14</td>\n",
       "      <td>15</td>\n",
       "    </tr>\n",
       "    <tr>\n",
       "      <th>4</th>\n",
       "      <td>GP</td>\n",
       "      <td>F</td>\n",
       "      <td>16</td>\n",
       "      <td>U</td>\n",
       "      <td>GT3</td>\n",
       "      <td>T</td>\n",
       "      <td>3</td>\n",
       "      <td>3</td>\n",
       "      <td>other</td>\n",
       "      <td>other</td>\n",
       "      <td>...</td>\n",
       "      <td>4</td>\n",
       "      <td>3</td>\n",
       "      <td>2</td>\n",
       "      <td>1</td>\n",
       "      <td>2</td>\n",
       "      <td>5</td>\n",
       "      <td>4</td>\n",
       "      <td>6</td>\n",
       "      <td>10</td>\n",
       "      <td>10</td>\n",
       "    </tr>\n",
       "  </tbody>\n",
       "</table>\n",
       "<p>5 rows × 33 columns</p>\n",
       "</div>"
      ],
      "text/plain": [
       "  school sex  age address famsize Pstatus  Medu  Fedu     Mjob      Fjob  ...  \\\n",
       "0     GP   F   18       U     GT3       A     4     4  at_home   teacher  ...   \n",
       "1     GP   F   17       U     GT3       T     1     1  at_home     other  ...   \n",
       "2     GP   F   15       U     LE3       T     1     1  at_home     other  ...   \n",
       "3     GP   F   15       U     GT3       T     4     2   health  services  ...   \n",
       "4     GP   F   16       U     GT3       T     3     3    other     other  ...   \n",
       "\n",
       "  famrel freetime  goout  Dalc  Walc health absences  G1  G2  G3  \n",
       "0      4        3      4     1     1      3        6   5   6   6  \n",
       "1      5        3      3     1     1      3        4   5   5   6  \n",
       "2      4        3      2     2     3      3       10   7   8  10  \n",
       "3      3        2      2     1     1      5        2  15  14  15  \n",
       "4      4        3      2     1     2      5        4   6  10  10  \n",
       "\n",
       "[5 rows x 33 columns]"
      ]
     },
     "execution_count": 6,
     "metadata": {},
     "output_type": "execute_result"
    }
   ],
   "source": [
    "m.head()"
   ]
  },
  {
   "cell_type": "markdown",
   "id": "f87f8468",
   "metadata": {},
   "source": [
    "# 'm' dataframe is about the students who are studying maths subject"
   ]
  },
  {
   "cell_type": "code",
   "execution_count": 8,
   "id": "6ceed6df",
   "metadata": {},
   "outputs": [
    {
     "name": "stdout",
     "output_type": "stream",
     "text": [
      "<class 'pandas.core.frame.DataFrame'>\n",
      "RangeIndex: 395 entries, 0 to 394\n",
      "Data columns (total 33 columns):\n",
      " #   Column      Non-Null Count  Dtype \n",
      "---  ------      --------------  ----- \n",
      " 0   school      395 non-null    object\n",
      " 1   sex         395 non-null    object\n",
      " 2   age         395 non-null    int64 \n",
      " 3   address     395 non-null    object\n",
      " 4   famsize     395 non-null    object\n",
      " 5   Pstatus     395 non-null    object\n",
      " 6   Medu        395 non-null    int64 \n",
      " 7   Fedu        395 non-null    int64 \n",
      " 8   Mjob        395 non-null    object\n",
      " 9   Fjob        395 non-null    object\n",
      " 10  reason      395 non-null    object\n",
      " 11  guardian    395 non-null    object\n",
      " 12  traveltime  395 non-null    int64 \n",
      " 13  studytime   395 non-null    int64 \n",
      " 14  failures    395 non-null    int64 \n",
      " 15  schoolsup   395 non-null    object\n",
      " 16  famsup      395 non-null    object\n",
      " 17  paid        395 non-null    object\n",
      " 18  activities  395 non-null    object\n",
      " 19  nursery     395 non-null    object\n",
      " 20  higher      395 non-null    object\n",
      " 21  internet    395 non-null    object\n",
      " 22  romantic    395 non-null    object\n",
      " 23  famrel      395 non-null    int64 \n",
      " 24  freetime    395 non-null    int64 \n",
      " 25  goout       395 non-null    int64 \n",
      " 26  Dalc        395 non-null    int64 \n",
      " 27  Walc        395 non-null    int64 \n",
      " 28  health      395 non-null    int64 \n",
      " 29  absences    395 non-null    int64 \n",
      " 30  G1          395 non-null    int64 \n",
      " 31  G2          395 non-null    int64 \n",
      " 32  G3          395 non-null    int64 \n",
      "dtypes: int64(16), object(17)\n",
      "memory usage: 102.0+ KB\n"
     ]
    }
   ],
   "source": [
    "m.info()"
   ]
  },
  {
   "cell_type": "markdown",
   "id": "90d828b0",
   "metadata": {},
   "source": [
    "# Total number of females students studying"
   ]
  },
  {
   "cell_type": "code",
   "execution_count": 35,
   "id": "c8d75df8",
   "metadata": {},
   "outputs": [
    {
     "data": {
      "text/plain": [
       "208"
      ]
     },
     "execution_count": 35,
     "metadata": {},
     "output_type": "execute_result"
    }
   ],
   "source": [
    "m[m[\"sex\"]==\"F\"][\"sex\"].count()"
   ]
  },
  {
   "cell_type": "markdown",
   "id": "4cb8d47e",
   "metadata": {},
   "source": [
    "# Total number of males students studying"
   ]
  },
  {
   "cell_type": "code",
   "execution_count": 31,
   "id": "65b4cc25",
   "metadata": {},
   "outputs": [
    {
     "data": {
      "text/plain": [
       "187"
      ]
     },
     "execution_count": 31,
     "metadata": {},
     "output_type": "execute_result"
    }
   ],
   "source": [
    "m[m[\"sex\"]==\"M\"][\"sex\"].count()"
   ]
  },
  {
   "cell_type": "markdown",
   "id": "43141aac",
   "metadata": {},
   "source": [
    "# Parents working, of the students studying"
   ]
  },
  {
   "cell_type": "markdown",
   "id": "342cb957",
   "metadata": {},
   "source": [
    "# Mothers working"
   ]
  },
  {
   "cell_type": "code",
   "execution_count": 32,
   "id": "d34b2f3c",
   "metadata": {},
   "outputs": [
    {
     "data": {
      "text/plain": [
       "336"
      ]
     },
     "execution_count": 32,
     "metadata": {},
     "output_type": "execute_result"
    }
   ],
   "source": [
    "m[m[\"Mjob\"]!=\"at_home\"][\"Mjob\"].count()"
   ]
  },
  {
   "cell_type": "code",
   "execution_count": 12,
   "id": "24d2f3c5",
   "metadata": {},
   "outputs": [
    {
     "data": {
      "image/png": "[encoded data removed]",
      "text/plain": [
       "<Figure size 432x288 with 1 Axes>"
      ]
     },
     "metadata": {
      "needs_background": "light"
     },
     "output_type": "display_data"
    }
   ],
   "source": [
    "sns.countplot(data=m,x='Mjob');"
   ]
  },
  {
   "cell_type": "markdown",
   "id": "3c885df7",
   "metadata": {},
   "source": [
    "# Fathers working"
   ]
  },
  {
   "cell_type": "code",
   "execution_count": 13,
   "id": "47b97d0f",
   "metadata": {},
   "outputs": [
    {
     "data": {
      "text/plain": [
       "375"
      ]
     },
     "execution_count": 13,
     "metadata": {},
     "output_type": "execute_result"
    }
   ],
   "source": [
    "m[m[\"Fjob\"]!=\"at_home\"][\"Fjob\"].count()"
   ]
  },
  {
   "cell_type": "code",
   "execution_count": 14,
   "id": "ef6eca1b",
   "metadata": {},
   "outputs": [
    {
     "data": {
      "image/png": "[encoded data removed]",
      "text/plain": [
       "<Figure size 432x288 with 1 Axes>"
      ]
     },
     "metadata": {
      "needs_background": "light"
     },
     "output_type": "display_data"
    }
   ],
   "source": [
    "sns.countplot(data=m,x='Fjob')\n",
    "plt.show()"
   ]
  },
  {
   "cell_type": "markdown",
   "id": "f6cda1d5",
   "metadata": {},
   "source": [
    "# Average of Students Grades from I , II & III year from both Schools"
   ]
  },
  {
   "cell_type": "code",
   "execution_count": 40,
   "id": "8d684931",
   "metadata": {},
   "outputs": [
    {
     "name": "stdout",
     "output_type": "stream",
     "text": [
      "the mean of GP students are: 10.94, 10.78, and 10.49\n",
      "the mean of MS students are: 10.67, 10.2, and 9.85\n"
     ]
    }
   ],
   "source": [
    "gp_1 = round(m[m.school == 'GP']['G1'].mean(), 2)\n",
    "gp_2 = round(m[m.school == 'GP']['G2'].mean(), 2)\n",
    "gp_3 = round(m[m.school == 'GP']['G3'].mean(), 2)\n",
    "\n",
    "ms_1 = round(m[m.school == 'MS']['G1'].mean(), 2)\n",
    "ms_2 = round(m[m.school == 'MS']['G2'].mean(), 2)\n",
    "ms_3 = round(m[m.school == 'MS']['G3'].mean(), 2)\n",
    "\n",
    "print(f'the mean of GP students are: {gp_1}, {gp_2}, and {gp_3}')\n",
    "print(f'the mean of MS students are: {ms_1}, {ms_2}, and {ms_3}')"
   ]
  },
  {
   "cell_type": "markdown",
   "id": "72d2bfc5",
   "metadata": {},
   "source": [
    "# Bar Graph denoting the Average Grades of III , II & I year - GP School"
   ]
  },
  {
   "cell_type": "code",
   "execution_count": 50,
   "id": "17b7ca04",
   "metadata": {},
   "outputs": [
    {
     "data": {
      "image/png": "[encoded data removed]",
      "text/plain": [
       "<Figure size 432x288 with 1 Axes>"
      ]
     },
     "metadata": {
      "needs_background": "light"
     },
     "output_type": "display_data"
    }
   ],
   "source": [
    "sns.barplot(x=[gp_3,gp_2,gp_1],y=[10,10.5,12]);"
   ]
  },
  {
   "cell_type": "markdown",
   "id": "a6fa69cb",
   "metadata": {},
   "source": [
    "# Bar Graph denoting the Average Grades of III, II & I year - MS School"
   ]
  },
  {
   "cell_type": "code",
   "execution_count": 54,
   "id": "78682e82",
   "metadata": {},
   "outputs": [
    {
     "data": {
      "image/png": "[encoded data removed]",
      "text/plain": [
       "<Figure size 432x288 with 1 Axes>"
      ]
     },
     "metadata": {
      "needs_background": "light"
     },
     "output_type": "display_data"
    }
   ],
   "source": [
    "sns.barplot(x=[ms_3,ms_2,ms_1],y=[10,10.5,12]);"
   ]
  },
  {
   "cell_type": "markdown",
   "id": "c322c18c",
   "metadata": {},
   "source": [
    "The grades are distributed uniformly in GP school, when compared to the MS school.\n",
    "\n",
    "The average of the grades drop till 9, in the MS School.\n",
    "\n",
    "Despite of the Schools compared, the insight that we get is that the grades have dropped in the III year when compared to the I year."
   ]
  },
  {
   "cell_type": "markdown",
   "id": "2b3c19f1",
   "metadata": {},
   "source": []
  },
  {
   "cell_type": "markdown",
   "id": "df1fb7e1",
   "metadata": {},
   "source": [
    "Grade change over time (G3 - G1)"
   ]
  },
  {
   "cell_type": "markdown",
   "id": "dfedd18a",
   "metadata": {},
   "source": [
    "We are taking the difference of the Grades, i.e III year Grade - I year Grade\n",
    "\n",
    "If the value is positive, it means that the Grade has improved from what it was in the I year\n",
    "\n",
    "If the value is negative, it means that the Grade has gone down from what it was in the I year"
   ]
  },
  {
   "cell_type": "code",
   "execution_count": 55,
   "id": "512b9222",
   "metadata": {},
   "outputs": [],
   "source": [
    "m['change'] = m['G3'] - m['G1']"
   ]
  },
  {
   "cell_type": "markdown",
   "id": "739deff5",
   "metadata": {},
   "source": []
  },
  {
   "cell_type": "markdown",
   "id": "eb64f257",
   "metadata": {},
   "source": [
    "As it is shown in the above graphs, the Grades of students from both Schools - GP & MS have gone down as the students progress from I year to III year.\n",
    "\n",
    "Let us find the factors that influence on the Grades."
   ]
  },
  {
   "cell_type": "code",
   "execution_count": 59,
   "id": "eba4d2a5",
   "metadata": {},
   "outputs": [
    {
     "data": {
      "image/png": "[encoded data removed]",
      "text/plain": [
       "<Figure size 864x432 with 2 Axes>"
      ]
     },
     "metadata": {
      "needs_background": "light"
     },
     "output_type": "display_data"
    }
   ],
   "source": [
    "fig, ax = plt.subplots(1,2, figsize=(12,6))\n",
    "\n",
    "sns.barplot(ax=ax[0], data=m, x='Dalc', y='change')\n",
    "sns.barplot(ax=ax[1], data=m, x='Walc', y='change');"
   ]
  },
  {
   "cell_type": "markdown",
   "id": "16223c81",
   "metadata": {},
   "source": [
    "# The Students with lowest alcohol consumption see the biggest drop in their grades"
   ]
  },
  {
   "cell_type": "code",
   "execution_count": 60,
   "id": "3953b4e6",
   "metadata": {},
   "outputs": [
    {
     "data": {
      "image/png": "[encoded data removed]",
      "text/plain": [
       "<Figure size 864x432 with 2 Axes>"
      ]
     },
     "metadata": {
      "needs_background": "light"
     },
     "output_type": "display_data"
    }
   ],
   "source": [
    "fig, ax = plt.subplots(1,2, figsize=(12,6))\n",
    "\n",
    "sns.barplot(ax=ax[0], data=m, x='Fedu', y='change')\n",
    "sns.barplot(ax=ax[1], data=m, x='Medu', y='change')\n",
    "\n",
    "plt.show()"
   ]
  },
  {
   "cell_type": "markdown",
   "id": "7f6627a8",
   "metadata": {},
   "source": [
    "# This Graph shows Parents with no Education, those Students have better Grades"
   ]
  },
  {
   "cell_type": "code",
   "execution_count": 61,
   "id": "f83b7288",
   "metadata": {},
   "outputs": [
    {
     "data": {
      "image/png": "[encoded data removed]",
      "text/plain": [
       "<Figure size 864x432 with 2 Axes>"
      ]
     },
     "metadata": {
      "needs_background": "light"
     },
     "output_type": "display_data"
    }
   ],
   "source": [
    "fig, ax = plt.subplots(1,2, figsize=(12,6))\n",
    "\n",
    "sns.barplot(ax=ax[0], data=m, x='traveltime', y='change')\n",
    "sns.barplot(ax=ax[1], data=m, x='studytime', y='change');\n"
   ]
  },
  {
   "cell_type": "markdown",
   "id": "5ca4e21c",
   "metadata": {},
   "source": [
    "# Here in this case, the greater the study time has the greater affect on the Grades"
   ]
  },
  {
   "cell_type": "markdown",
   "id": "858f64ea",
   "metadata": {},
   "source": [
    "# And, the travel time upto 3 (30 min travel) has affected the Grades, interestingly when the travel time reaches the highest 4 (1 hour travel) - this has helped with the Grades"
   ]
  },
  {
   "cell_type": "code",
   "execution_count": 63,
   "id": "a0680eee",
   "metadata": {},
   "outputs": [
    {
     "data": {
      "image/png": "[encoded data removed]",
      "text/plain": [
       "<Figure size 864x432 with 2 Axes>"
      ]
     },
     "metadata": {
      "needs_background": "light"
     },
     "output_type": "display_data"
    }
   ],
   "source": [
    "fig, ax = plt.subplots(1,2, figsize=(12,6))\n",
    "\n",
    "sns.barplot(ax=ax[0], data=m, x='schoolsup', y='change')\n",
    "sns.barplot(ax=ax[1], data=m, x='famsup', y='change');"
   ]
  },
  {
   "cell_type": "markdown",
   "id": "4f257607",
   "metadata": {},
   "source": [
    "# Above shows us that the Grades have gone up with School supporting the students in their academics"
   ]
  },
  {
   "cell_type": "markdown",
   "id": "e6487af7",
   "metadata": {},
   "source": [
    "# But with the family support, the Grades are more worse when there is no support at all"
   ]
  },
  {
   "cell_type": "code",
   "execution_count": 69,
   "id": "85002399",
   "metadata": {},
   "outputs": [
    {
     "data": {
      "image/png": "[encoded data removed]",
      "text/plain": [
       "<Figure size 864x432 with 2 Axes>"
      ]
     },
     "metadata": {
      "needs_background": "light"
     },
     "output_type": "display_data"
    }
   ],
   "source": [
    "fig, ax = plt.subplots(1,2, figsize=(12,6))\n",
    "\n",
    "sns.barplot(ax=ax[0], data=m, x='health', y='change')\n",
    "sns.barplot(ax=ax[1], data=m, x='absences', y='change');"
   ]
  },
  {
   "cell_type": "markdown",
   "id": "81c4b885",
   "metadata": {},
   "source": [
    "# Clearly healthier students have bad grades, and there is an exception - where students with very low health condition have got good grades compared to the healthiest"
   ]
  },
  {
   "cell_type": "markdown",
   "id": "01538af7",
   "metadata": {},
   "source": [
    "# Absent to School, doesn't have any affect with the Students Grades"
   ]
  },
  {
   "cell_type": "code",
   "execution_count": 71,
   "id": "e268eb95",
   "metadata": {},
   "outputs": [
    {
     "data": {
      "image/png": "[encoded data removed]",
      "text/plain": [
       "<Figure size 864x432 with 2 Axes>"
      ]
     },
     "metadata": {
      "needs_background": "light"
     },
     "output_type": "display_data"
    }
   ],
   "source": [
    "fig, ax = plt.subplots(1,2, figsize=(12,6))\n",
    "\n",
    "sns.barplot(ax=ax[0], data=m, x='Fjob', y='change')\n",
    "sns.barplot(ax=ax[1], data=m, x='Mjob', y='change');"
   ]
  },
  {
   "cell_type": "markdown",
   "id": "9e17da1d",
   "metadata": {},
   "source": [
    "# Grades of students whose parents aren't working have the Least Grades"
   ]
  },
  {
   "cell_type": "markdown",
   "id": "0e42df73",
   "metadata": {},
   "source": [
    "# Another observation is that students have better Grades whose Parents are working in the health department"
   ]
  },
  {
   "cell_type": "code",
   "execution_count": 73,
   "id": "faf961a4",
   "metadata": {},
   "outputs": [
    {
     "data": {
      "image/png": "[encoded data removed]",
      "text/plain": [
       "<Figure size 864x432 with 2 Axes>"
      ]
     },
     "metadata": {
      "needs_background": "light"
     },
     "output_type": "display_data"
    }
   ],
   "source": [
    "fig, ax = plt.subplots(1,2, figsize=(12,6))\n",
    "\n",
    "sns.barplot(ax=ax[0], data=m, x='address', y='change')\n",
    "sns.barplot(ax=ax[1], data=m, x='famsize', y='change');"
   ]
  },
  {
   "cell_type": "markdown",
   "id": "a691e928",
   "metadata": {},
   "source": [
    "# Grades are better if the students are from Urban Residential Living"
   ]
  },
  {
   "cell_type": "markdown",
   "id": "6c4354aa",
   "metadata": {},
   "source": [
    "# Grades are better if the students family is of size, not more than 3 members"
   ]
  },
  {
   "cell_type": "markdown",
   "id": "ac486661",
   "metadata": {},
   "source": []
  },
  {
   "cell_type": "markdown",
   "id": "b0dbbf65",
   "metadata": {},
   "source": [
    "# Summary\n",
    "\n",
    "# Many factor influence the grades but alcohol does not seem to have the influence that the title suggest"
   ]
  },
  {
   "cell_type": "code",
   "execution_count": null,
   "id": "fb3f77b4",
   "metadata": {},
   "outputs": [],
   "source": []
  }
 ],
 "metadata": {
  "kernelspec": {
   "display_name": "Python 3 (ipykernel)",
   "language": "python",
   "name": "python3"
  },
  "language_info": {
   "codemirror_mode": {
    "name": "ipython",
    "version": 3
   },
   "file_extension": ".py",
   "mimetype": "text/x-python",
   "name": "python",
   "nbconvert_exporter": "python",
   "pygments_lexer": "ipython3",
   "version": "3.9.12"
  }
 },
 "nbformat": 4,
 "nbformat_minor": 5
}
